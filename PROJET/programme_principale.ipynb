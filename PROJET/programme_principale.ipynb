{
 "cells": [
  {
   "cell_type": "code",
   "execution_count": 14,
   "metadata": {},
   "outputs": [
    {
     "name": "stderr",
     "output_type": "stream",
     "text": [
      "/Users/hugo13/Documents/GitHub/projetMLops/PROJET/PREPARATION/feature_engineering.py:41: FutureWarning: In a future version, the Index constructor will not infer numeric dtypes when passed object-dtype sequences (matching Series behavior)\n",
      "  data = pd.get_dummies(data)\n"
     ]
    },
    {
     "ename": "NameError",
     "evalue": "name 'X_train' is not defined",
     "output_type": "error",
     "traceback": [
      "\u001b[0;31m---------------------------------------------------------------------------\u001b[0m",
      "\u001b[0;31mNameError\u001b[0m                                 Traceback (most recent call last)",
      "\u001b[1;32m/Users/hugo13/Documents/GitHub/projetMLops/PROJET/programme_principale.ipynb Cell 1\u001b[0m line \u001b[0;36m2\n\u001b[1;32m     <a href='vscode-notebook-cell:/Users/hugo13/Documents/GitHub/projetMLops/PROJET/programme_principale.ipynb#W0sZmlsZQ%3D%3D?line=17'>18</a>\u001b[0m data\u001b[39m.\u001b[39mhead()\n\u001b[1;32m     <a href='vscode-notebook-cell:/Users/hugo13/Documents/GitHub/projetMLops/PROJET/programme_principale.ipynb#W0sZmlsZQ%3D%3D?line=19'>20</a>\u001b[0m train_test(data)\n\u001b[0;32m---> <a href='vscode-notebook-cell:/Users/hugo13/Documents/GitHub/projetMLops/PROJET/programme_principale.ipynb#W0sZmlsZQ%3D%3D?line=21'>22</a>\u001b[0m \u001b[39mprint\u001b[39m(X_train)\n",
      "\u001b[0;31mNameError\u001b[0m: name 'X_train' is not defined"
     ]
    }
   ],
   "source": [
    "import pandas as pd\n",
    "from INFRASTRUCTURE.importation import chargement\n",
    "from PREPARATION.transformation import nettoyage,regroupement\n",
    "from PREPARATION.feature_engineering import supp, dummies\n",
    "from MODELISATION.train_test import train_test\n",
    "\n",
    "data = chargement(\"DATA/adult.data\")\n",
    "\n",
    "data = nettoyage(data)\n",
    "\n",
    "data = regroupement(data)\n",
    "\n",
    "data = supp(data)\n",
    "\n",
    "data = dummies(data)\n",
    "\n",
    "\n",
    "data.head()\n",
    "\n",
    "train_test(data)\n",
    "\n",
    "print(X_train)\n"
   ]
  }
 ],
 "metadata": {
  "kernelspec": {
   "display_name": "Python 3",
   "language": "python",
   "name": "python3"
  },
  "language_info": {
   "codemirror_mode": {
    "name": "ipython",
    "version": 3
   },
   "file_extension": ".py",
   "mimetype": "text/x-python",
   "name": "python",
   "nbconvert_exporter": "python",
   "pygments_lexer": "ipython3",
   "version": "3.11.6"
  }
 },
 "nbformat": 4,
 "nbformat_minor": 2
}
