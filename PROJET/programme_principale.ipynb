{
 "cells": [
  {
   "cell_type": "code",
   "execution_count": null,
   "metadata": {},
   "outputs": [],
   "source": [
    "import pandas as pd\n",
    "from INFRASTRUCTURE.importation import chargement\n",
    "from PREPARATION.transformation import nettoyage,regroupement\n",
    "from PREPARATION.feature_engineering import supp, dummies\n",
    "from MODELISATION.modele import modele_regression,modele_arbre,modele_xgboost,modele_randomforest,modele_knn\n",
    "from MODELISATION.performance import evaluation_modele\n",
    "from sklearn.model_selection import train_test_split\n",
    "from sklearn.preprocessing import StandardScaler\n",
    "from sklearn.metrics import accuracy_score, precision_score, recall_score, f1_score, roc_curve, auc\n",
    "from sklearn.metrics import confusion_matrix\n",
    "\n",
    "\n",
    "#appel de la fonction chargement\n",
    "data = chargement(\"DATA/adult.data\")\n",
    "\n",
    "#appel de la fonction nettoyage\n",
    "data = nettoyage(data)\n",
    "\n",
    "#appel de la fonction regroupement\n",
    "data = regroupement(data)\n",
    "\n",
    "#appel de la fonction supp\n",
    "data = supp(data)\n",
    "\n",
    "#appel de la fonction dummies\n",
    "data = dummies(data)\n",
    "\n",
    "data.head()"
   ]
  },
  {
   "cell_type": "code",
   "execution_count": null,
   "metadata": {},
   "outputs": [],
   "source": [
    "#Création du jeu d'entrainement et de test\n",
    "\n",
    "X = data.drop(columns=[\"salaire_1\",\"salaire_0\"])\n",
    "y = data[\"salaire_1\"]\n",
    "X_train, X_test, y_train, y_test = train_test_split(X, y, test_size=0.3, random_state=0,stratify=y)\n",
    "\n",
    "\n",
    "scaler = StandardScaler()\n",
    "X_train = scaler.fit_transform(X_train)\n",
    "X_test = scaler.transform(X_test)"
   ]
  },
  {
   "cell_type": "code",
   "execution_count": null,
   "metadata": {},
   "outputs": [],
   "source": [
    "#Création de la régression logisitque + affichage de ses performances\n",
    "regression = modele_regression(X_train,y_train)\n",
    "evaluation_modele(\"Régression Logistique\", regression, X_test, y_test,threshold=0.25)"
   ]
  },
  {
   "cell_type": "code",
   "execution_count": null,
   "metadata": {},
   "outputs": [],
   "source": [
    "#Création de l'arbre de décsision + affichage de ses performances\n",
    "arbre = modele_arbre(X_train,y_train)\n",
    "evaluation_modele(\"Arbre de décision\", arbre, X_test, y_test,threshold=0.25)"
   ]
  },
  {
   "cell_type": "code",
   "execution_count": null,
   "metadata": {},
   "outputs": [],
   "source": [
    "#Création de l'xgboost + affichage de ses performances\n",
    "xgboost = modele_xgboost(X_train,y_train)\n",
    "evaluation_modele(\"xgboost\", xgboost, X_test, y_test,threshold=0.25)"
   ]
  },
  {
   "cell_type": "code",
   "execution_count": null,
   "metadata": {},
   "outputs": [],
   "source": [
    "#Création du randomforest + affichage de ses performances\n",
    "randomforest = modele_randomforest(X_train,y_train)\n",
    "evaluation_modele(\"Random Forest\", randomforest, X_test, y_test,threshold=0.25)"
   ]
  },
  {
   "cell_type": "code",
   "execution_count": null,
   "metadata": {},
   "outputs": [],
   "source": [
    "#Création du knn + affichage de ses performances\n",
    "knn = modele_knn(X_train,y_train)\n",
    "evaluation_modele(\"Knn\", knn, X_test, y_test,threshold=0.25)"
   ]
  }
 ],
 "metadata": {
  "kernelspec": {
   "display_name": "Python 3",
   "language": "python",
   "name": "python3"
  },
  "language_info": {
   "codemirror_mode": {
    "name": "ipython",
    "version": 3
   },
   "file_extension": ".py",
   "mimetype": "text/x-python",
   "name": "python",
   "nbconvert_exporter": "python",
   "pygments_lexer": "ipython3",
   "version": "3.11.6"
  }
 },
 "nbformat": 4,
 "nbformat_minor": 2
}
